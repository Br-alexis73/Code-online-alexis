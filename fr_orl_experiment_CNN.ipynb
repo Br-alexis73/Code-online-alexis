{
  "metadata": {
    "kernelspec": {
      "language": "python",
      "display_name": "Python 3",
      "name": "python3"
    },
    "language_info": {
      "name": "python",
      "version": "3.7.10",
      "mimetype": "text/x-python",
      "codemirror_mode": {
        "name": "ipython",
        "version": 3
      },
      "pygments_lexer": "ipython3",
      "nbconvert_exporter": "python",
      "file_extension": ".py"
    },
    "kaggle": {
      "accelerator": "none",
      "dataSources": [
        {
          "sourceId": 2465716,
          "sourceType": "datasetVersion",
          "datasetId": 1492577
        }
      ],
      "dockerImageVersionId": 30120,
      "isInternetEnabled": false,
      "language": "python",
      "sourceType": "notebook",
      "isGpuEnabled": false
    },
    "colab": {
      "name": "fr_orl_experiment_CNN",
      "provenance": [],
      "include_colab_link": true
    }
  },
  "nbformat_minor": 0,
  "nbformat": 4,
  "cells": [
    {
      "cell_type": "markdown",
      "metadata": {
        "id": "view-in-github",
        "colab_type": "text"
      },
      "source": [
        "<a href=\"https://colab.research.google.com/github/Br-alexis73/Code-online-alexis/blob/main/fr_orl_experiment_CNN.ipynb\" target=\"_parent\"><img src=\"https://colab.research.google.com/assets/colab-badge.svg\" alt=\"Open In Colab\"/></a>"
      ]
    },
    {
      "source": [
        "\n",
        "# IMPORTANT: RUN THIS CELL IN ORDER TO IMPORT YOUR KAGGLE DATA SOURCES\n",
        "# TO THE CORRECT LOCATION (/kaggle/input) IN YOUR NOTEBOOK,\n",
        "# THEN FEEL FREE TO DELETE THIS CELL.\n",
        "# NOTE: THIS NOTEBOOK ENVIRONMENT DIFFERS FROM KAGGLE'S PYTHON\n",
        "# ENVIRONMENT SO THERE MAY BE MISSING LIBRARIES USED BY YOUR\n",
        "# NOTEBOOK.\n",
        "\n",
        "import os\n",
        "import sys\n",
        "from tempfile import NamedTemporaryFile\n",
        "from urllib.request import urlopen\n",
        "from urllib.parse import unquote, urlparse\n",
        "from urllib.error import HTTPError\n",
        "from zipfile import ZipFile\n",
        "import tarfile\n",
        "import shutil\n",
        "\n",
        "CHUNK_SIZE = 40960\n",
        "DATA_SOURCE_MAPPING = 'orl-faces:https%3A%2F%2Fstorage.googleapis.com%2Fkaggle-data-sets%2F1492577%2F2465716%2Fbundle%2Farchive.zip%3FX-Goog-Algorithm%3DGOOG4-RSA-SHA256%26X-Goog-Credential%3Dgcp-kaggle-com%2540kaggle-161607.iam.gserviceaccount.com%252F20240421%252Fauto%252Fstorage%252Fgoog4_request%26X-Goog-Date%3D20240421T103134Z%26X-Goog-Expires%3D259200%26X-Goog-SignedHeaders%3Dhost%26X-Goog-Signature%3D04cdad0072b37fa134a73af86b30905b4377d231439fae6eb42d3e9b80980b3e27c0c8e4a07dec26c2d8a4eb69f5af47fdfafcc84e5054de8b864b6f86d0a093f0f27d632485ce8dd0327810c02097241db0e18e3f99aabb43b238a4485022e510e56aeb23a2e939e804a0771797ad508db773577d3ea105f7e291cdf11a65d8be2f1068aa96e05e73ea6dfb663ec0149102346f7c6daa1e4ca35821bd269af2a42b56a79be94f060fc0a1e889cdb9ddb8570d10d2ae750607a03355ff694d746e385b9b5cc727920a69b368c43077d99c293bb4482a1de7af966e71c9966cd8c6e61a22b11ebd2b9ef15625181abe11662464fc4051b8bbce1d7c428f6c42c7'\n",
        "\n",
        "KAGGLE_INPUT_PATH='/kaggle/input'\n",
        "KAGGLE_WORKING_PATH='/kaggle/working'\n",
        "KAGGLE_SYMLINK='kaggle'\n",
        "\n",
        "!umount /kaggle/input/ 2> /dev/null\n",
        "shutil.rmtree('/kaggle/input', ignore_errors=True)\n",
        "os.makedirs(KAGGLE_INPUT_PATH, 0o777, exist_ok=True)\n",
        "os.makedirs(KAGGLE_WORKING_PATH, 0o777, exist_ok=True)\n",
        "\n",
        "try:\n",
        "  os.symlink(KAGGLE_INPUT_PATH, os.path.join(\"..\", 'input'), target_is_directory=True)\n",
        "except FileExistsError:\n",
        "  pass\n",
        "try:\n",
        "  os.symlink(KAGGLE_WORKING_PATH, os.path.join(\"..\", 'working'), target_is_directory=True)\n",
        "except FileExistsError:\n",
        "  pass\n",
        "\n",
        "for data_source_mapping in DATA_SOURCE_MAPPING.split(','):\n",
        "    directory, download_url_encoded = data_source_mapping.split(':')\n",
        "    download_url = unquote(download_url_encoded)\n",
        "    filename = urlparse(download_url).path\n",
        "    destination_path = os.path.join(KAGGLE_INPUT_PATH, directory)\n",
        "    try:\n",
        "        with urlopen(download_url) as fileres, NamedTemporaryFile() as tfile:\n",
        "            total_length = fileres.headers['content-length']\n",
        "            print(f'Downloading {directory}, {total_length} bytes compressed')\n",
        "            dl = 0\n",
        "            data = fileres.read(CHUNK_SIZE)\n",
        "            while len(data) > 0:\n",
        "                dl += len(data)\n",
        "                tfile.write(data)\n",
        "                done = int(50 * dl / int(total_length))\n",
        "                sys.stdout.write(f\"\\r[{'=' * done}{' ' * (50-done)}] {dl} bytes downloaded\")\n",
        "                sys.stdout.flush()\n",
        "                data = fileres.read(CHUNK_SIZE)\n",
        "            if filename.endswith('.zip'):\n",
        "              with ZipFile(tfile) as zfile:\n",
        "                zfile.extractall(destination_path)\n",
        "            else:\n",
        "              with tarfile.open(tfile.name) as tarfile:\n",
        "                tarfile.extractall(destination_path)\n",
        "            print(f'\\nDownloaded and uncompressed: {directory}')\n",
        "    except HTTPError as e:\n",
        "        print(f'Failed to load (likely expired) {download_url} to path {destination_path}')\n",
        "        continue\n",
        "    except OSError as e:\n",
        "        print(f'Failed to load {download_url} to path {destination_path}')\n",
        "        continue\n",
        "\n",
        "print('Data source import complete.')\n"
      ],
      "metadata": {
        "id": "c9Fn-0rCNhu3"
      },
      "cell_type": "code",
      "outputs": [],
      "execution_count": null
    },
    {
      "cell_type": "code",
      "source": [
        "import keras\n",
        "from keras.models import Sequential\n",
        "from keras.layers import Conv2D, MaxPooling2D, Dense, Flatten, Dropout\n",
        "from keras.optimizers import Adam\n",
        "from keras.callbacks import TensorBoard\n",
        "\n",
        "import numpy as np\n",
        "import pandas as pd\n",
        "import matplotlib.pyplot as plt\n",
        "from sklearn.model_selection import train_test_split\n",
        "\n",
        "from sklearn.metrics import confusion_matrix\n",
        "from sklearn.metrics import classification_report\n",
        "from sklearn.metrics import roc_curve, auc\n",
        "from sklearn.metrics import accuracy_score\n",
        "from keras.utils import np_utils\n",
        "import itertools"
      ],
      "metadata": {
        "_uuid": "104c9a6b-a3bd-4f32-8097-31f2177cb0a6",
        "_cell_guid": "08e0e784-f00d-49a0-b7df-8df3bcccfc49",
        "jupyter": {
          "outputs_hidden": false
        },
        "execution": {
          "iopub.status.busy": "2024-04-21T10:27:26.126945Z",
          "iopub.execute_input": "2024-04-21T10:27:26.127465Z",
          "iopub.status.idle": "2024-04-21T10:27:33.43085Z",
          "shell.execute_reply.started": "2024-04-21T10:27:26.127346Z",
          "shell.execute_reply": "2024-04-21T10:27:33.429704Z"
        },
        "trusted": true,
        "id": "SLgfyKNbNhu7"
      },
      "execution_count": null,
      "outputs": []
    },
    {
      "cell_type": "markdown",
      "source": [
        "# Step 2\n",
        "Load Dataset :\n",
        "After loading the Dataset you have to normalize every image.\n",
        "\n",
        "**Note:** an image is a Uint8 matrix of pixels and for calculation, you need to convert the format of the image to float or double"
      ],
      "metadata": {
        "_uuid": "7ea3f6c8-7acd-45c8-ac4a-15d111c5a668",
        "_cell_guid": "b66306f7-d36a-4350-93d9-4e7744c98a53",
        "trusted": true,
        "id": "GRTEMHpBNhu7"
      }
    },
    {
      "cell_type": "code",
      "source": [
        "#load dataset\n",
        "data = np.load('../input/orl-faces/ORL_faces.npz')\n",
        "\n",
        "# load the \"Train Images\"\n",
        "x_train = data['trainX']\n",
        "#normalize every image\n",
        "x_train = np.array(x_train,dtype='float32')/255\n",
        "\n",
        "x_test = data['testX']\n",
        "x_test = np.array(x_test,dtype='float32')/255\n",
        "\n",
        "# load the Label of Images\n",
        "y_train= data['trainY']\n",
        "y_test= data['testY']\n",
        "\n",
        "# show the train and test Data format\n",
        "print('x_train : {}'.format(x_train[:]))\n",
        "print('Y-train shape: {}'.format(y_train))\n",
        "print('x_test shape: {}'.format(x_test.shape))"
      ],
      "metadata": {
        "_uuid": "ca522af1-e196-4f6e-80d4-b93bb5f0dc5b",
        "_cell_guid": "7c74b6fe-4ea4-45e3-97e4-8c0caa313dc8",
        "jupyter": {
          "outputs_hidden": false
        },
        "execution": {
          "iopub.status.busy": "2024-04-21T10:27:43.432444Z",
          "iopub.execute_input": "2024-04-21T10:27:43.432833Z",
          "iopub.status.idle": "2024-04-21T10:27:43.829088Z",
          "shell.execute_reply.started": "2024-04-21T10:27:43.432799Z",
          "shell.execute_reply": "2024-04-21T10:27:43.82774Z"
        },
        "trusted": true,
        "id": "4RjytFitNhu9",
        "outputId": "604fcca1-f764-4978-d666-844327975b10"
      },
      "execution_count": null,
      "outputs": [
        {
          "name": "stdout",
          "text": "x_train : [[0.1882353  0.19215687 0.1764706  ... 0.18431373 0.18039216 0.18039216]\n [0.23529412 0.23529412 0.24313726 ... 0.1254902  0.13333334 0.13333334]\n [0.15294118 0.17254902 0.20784314 ... 0.11372549 0.10196079 0.11372549]\n ...\n [0.44705883 0.45882353 0.44705883 ... 0.38431373 0.3764706  0.38431373]\n [0.4117647  0.4117647  0.41960785 ... 0.21176471 0.18431373 0.16078432]\n [0.45490196 0.44705883 0.45882353 ... 0.37254903 0.39215687 0.39607844]]\nY-train shape: [ 0  0  0  0  0  0  0  0  0  0  0  0  1  1  1  1  1  1  1  1  1  1  1  1\n  2  2  2  2  2  2  2  2  2  2  2  2  3  3  3  3  3  3  3  3  3  3  3  3\n  4  4  4  4  4  4  4  4  4  4  4  4  5  5  5  5  5  5  5  5  5  5  5  5\n  6  6  6  6  6  6  6  6  6  6  6  6  7  7  7  7  7  7  7  7  7  7  7  7\n  8  8  8  8  8  8  8  8  8  8  8  8  9  9  9  9  9  9  9  9  9  9  9  9\n 10 10 10 10 10 10 10 10 10 10 10 10 11 11 11 11 11 11 11 11 11 11 11 11\n 12 12 12 12 12 12 12 12 12 12 12 12 13 13 13 13 13 13 13 13 13 13 13 13\n 14 14 14 14 14 14 14 14 14 14 14 14 15 15 15 15 15 15 15 15 15 15 15 15\n 16 16 16 16 16 16 16 16 16 16 16 16 17 17 17 17 17 17 17 17 17 17 17 17\n 18 18 18 18 18 18 18 18 18 18 18 18 19 19 19 19 19 19 19 19 19 19 19 19]\nx_test shape: (160, 10304)\n",
          "output_type": "stream"
        }
      ]
    },
    {
      "cell_type": "markdown",
      "source": [
        "# Step 3\n",
        "Split DataSet : Validation data and Train\n",
        "\n",
        "Validation DataSet: this data set is used to minimize overfitting.If the accuracy over the training data set increases, but the accuracy over then validation data set stays the same or decreases, then you're overfitting your neural network and you should stop training.\n",
        "\n",
        "**Note:** we usually use 30 percent of every dataset as the validation data but Here we only used 5 percent because the number of images in this dataset is very low."
      ],
      "metadata": {
        "_uuid": "513ae144-0cfa-42b4-8f48-18de0496dd7a",
        "_cell_guid": "96743b41-911d-4598-8529-566171aa493e",
        "trusted": true,
        "id": "vmVw-36SNhu_"
      }
    },
    {
      "cell_type": "code",
      "source": [
        "x_train, x_valid, y_train, y_valid= train_test_split(\n",
        "    x_train, y_train, test_size=.05, random_state=1234,)"
      ],
      "metadata": {
        "_uuid": "ae0b7183-f909-423d-9fde-de6dd06b95fe",
        "_cell_guid": "f3ace218-246a-40b8-aaae-ab9242123294",
        "jupyter": {
          "outputs_hidden": false
        },
        "execution": {
          "iopub.status.busy": "2024-04-21T10:27:49.360037Z",
          "iopub.execute_input": "2024-04-21T10:27:49.360443Z",
          "iopub.status.idle": "2024-04-21T10:27:49.369218Z",
          "shell.execute_reply.started": "2024-04-21T10:27:49.360398Z",
          "shell.execute_reply": "2024-04-21T10:27:49.36813Z"
        },
        "trusted": true,
        "id": "7yVjVtlANhvA"
      },
      "execution_count": null,
      "outputs": []
    },
    {
      "cell_type": "markdown",
      "source": [
        "# **Step 4**\n",
        "\n",
        "for using the CNN, we need to change The size of images ( The size of images must be the same)"
      ],
      "metadata": {
        "_uuid": "d748c7fb-7df2-4bdf-9a1c-0f3922b64dc4",
        "_cell_guid": "ce2f1c33-efae-4f5e-8654-d9457cd461fb",
        "trusted": true,
        "id": "7paTA_JBNhvA"
      }
    },
    {
      "cell_type": "code",
      "source": [
        "im_rows=112\n",
        "im_cols=92\n",
        "batch_size=512\n",
        "im_shape=(im_rows, im_cols, 1)\n",
        "\n",
        "#change the size of images\n",
        "x_train = x_train.reshape(x_train.shape[0], *im_shape)\n",
        "x_test = x_test.reshape(x_test.shape[0], *im_shape)\n",
        "x_valid = x_valid.reshape(x_valid.shape[0], *im_shape)\n",
        "\n",
        "print('x_train shape: {}'.format(y_train.shape[0]))\n",
        "print('x_test shape: {}'.format(y_test.shape))"
      ],
      "metadata": {
        "_uuid": "97984650-c7b2-424d-b15a-5dd4bf37fd7a",
        "_cell_guid": "129f89f8-ac2a-4747-8a04-ec10121a93aa",
        "jupyter": {
          "outputs_hidden": false
        },
        "execution": {
          "iopub.status.busy": "2024-04-21T10:27:53.30247Z",
          "iopub.execute_input": "2024-04-21T10:27:53.3029Z",
          "iopub.status.idle": "2024-04-21T10:27:53.310514Z",
          "shell.execute_reply.started": "2024-04-21T10:27:53.302852Z",
          "shell.execute_reply": "2024-04-21T10:27:53.309362Z"
        },
        "trusted": true,
        "id": "KlUC_MAsNhvB",
        "outputId": "10693e05-7394-4a78-90f9-18156b49dff9"
      },
      "execution_count": null,
      "outputs": [
        {
          "name": "stdout",
          "text": "x_train shape: 228\nx_test shape: (160,)\n",
          "output_type": "stream"
        }
      ]
    },
    {
      "cell_type": "markdown",
      "source": [
        "# **Step 5**\n",
        "\n",
        "Build CNN model: CNN have 3 main layer:\n",
        "\n",
        "1-Convolotional layer\n",
        "2- pooling layer\n",
        "3- fully connected layer\n",
        "\n",
        "we could build a new architecture of CNN by changing the number and position of layers."
      ],
      "metadata": {
        "_uuid": "8156121a-fc0d-4f1b-b4cd-e478eb99f753",
        "_cell_guid": "5eda4aba-afcd-4ce6-8173-674f2230e412",
        "trusted": true,
        "id": "fFEwYBx1NhvB"
      }
    },
    {
      "cell_type": "code",
      "source": [
        "import tensorflow as tf\n",
        "from tensorflow.keras.models import Sequential\n",
        "from tensorflow.keras.layers import Conv2D, MaxPooling2D, Flatten, Dense, Dropout, BatchNormalization, ZeroPadding2D\n",
        "model = Sequential()\n",
        "\n",
        "# Block 1\n",
        "model.add(ZeroPadding2D((1,1), input_shape=(im_size, im_size, 3)))\n",
        "model.add(Conv2D(64, (3, 3), activation='relu'))\n",
        "model.add(ZeroPadding2D((1,1)))\n",
        "model.add(Conv2D(64, (3, 3), activation='relu'))\n",
        "model.add(MaxPooling2D((2,2), strides=(2,2)))\n",
        "\n",
        "# Block 2\n",
        "model.add(ZeroPadding2D((1,1)))\n",
        "model.add(Conv2D(128, (3, 3), activation='relu'))\n",
        "model.add(ZeroPadding2D((1,1)))\n",
        "model.add(Conv2D(128, (3, 3), activation='relu'))\n",
        "model.add(MaxPooling2D((2,2), strides=(2,2)))\n",
        "\n",
        "# Block 3\n",
        "model.add(ZeroPadding2D((1,1)))\n",
        "model.add(Conv2D(256, (3, 3), activation='relu'))\n",
        "model.add(ZeroPadding2D((1,1)))\n",
        "model.add(Conv2D(256, (3, 3), activation='relu'))\n",
        "model.add(ZeroPadding2D((1,1)))\n",
        "model.add(Conv2D(256, (3, 3), activation='relu'))\n",
        "model.add(MaxPooling2D((2,2), strides=(2,2)))\n",
        "\n",
        "# Block 4\n",
        "model.add(ZeroPadding2D((1,1)))\n",
        "model.add(Conv2D(512, (3, 3), activation='relu'))\n",
        "model.add(ZeroPadding2D((1,1)))\n",
        "model.add(Conv2D(512, (3, 3), activation='relu'))\n",
        "model.add(ZeroPadding2D((1,1)))\n",
        "model.add(Conv2D(512, (3, 3), activation='relu'))\n",
        "model.add(MaxPooling2D((2,2), strides=(2,2)))\n",
        "\n",
        "# Block 5\n",
        "model.add(ZeroPadding2D((1,1)))\n",
        "model.add(Conv2D(512, (3, 3), activation='relu'))\n",
        "model.add(ZeroPadding2D((1,1)))\n",
        "model.add(Conv2D(512, (3, 3), activation='relu'))\n",
        "model.add(ZeroPadding2D((1,1)))\n",
        "model.add(Conv2D(512, (3, 3), activation='relu'))\n",
        "model.add(MaxPooling2D((2,2), strides=(2,2)))\n",
        "\n",
        "# Classifier\n",
        "model.add(Flatten())\n",
        "model.add(Dense(4096, activation='relu'))\n",
        "model.add(Dropout(0.5))\n",
        "model.add(Dense(4096, activation='relu'))\n",
        "model.add(Dropout(0.5))\n",
        "model.add(Dense(num_classes, activation='softmax'))  # Final layer with softmax activation for classification\n",
        "\n",
        "# Compile the model\n",
        "model.compile(optimizer='adam', loss='categorical_crossentropy', metrics=['accuracy'])\n",
        "\n",
        "# Summary of the model\n",
        "model.summary()\n"
      ],
      "metadata": {
        "_uuid": "c4fc841a-3311-4c32-bf73-00489ef63d97",
        "_cell_guid": "576b801b-ca21-4a78-a3ad-d60652a9d5d8",
        "jupyter": {
          "outputs_hidden": false
        },
        "execution": {
          "iopub.status.busy": "2024-04-21T10:30:01.480917Z",
          "iopub.execute_input": "2024-04-21T10:30:01.481322Z",
          "iopub.status.idle": "2024-04-21T10:30:01.5286Z",
          "shell.execute_reply.started": "2024-04-21T10:30:01.481286Z",
          "shell.execute_reply": "2024-04-21T10:30:01.526956Z"
        },
        "trusted": true,
        "id": "yaK95W3RNhvD",
        "outputId": "46f83a30-9ffd-4e5b-b035-15100a63839a"
      },
      "execution_count": null,
      "outputs": [
        {
          "traceback": [
            "\u001b[0;31m---------------------------------------------------------------------------\u001b[0m",
            "\u001b[0;31mNameError\u001b[0m                                 Traceback (most recent call last)",
            "\u001b[0;32m<ipython-input-6-195b9e96055c>\u001b[0m in \u001b[0;36m<module>\u001b[0;34m\u001b[0m\n\u001b[1;32m      5\u001b[0m \u001b[0;34m\u001b[0m\u001b[0m\n\u001b[1;32m      6\u001b[0m \u001b[0;31m# Block 1\u001b[0m\u001b[0;34m\u001b[0m\u001b[0;34m\u001b[0m\u001b[0;34m\u001b[0m\u001b[0m\n\u001b[0;32m----> 7\u001b[0;31m \u001b[0mmodel\u001b[0m\u001b[0;34m.\u001b[0m\u001b[0madd\u001b[0m\u001b[0;34m(\u001b[0m\u001b[0mZeroPadding2D\u001b[0m\u001b[0;34m(\u001b[0m\u001b[0;34m(\u001b[0m\u001b[0;36m1\u001b[0m\u001b[0;34m,\u001b[0m\u001b[0;36m1\u001b[0m\u001b[0;34m)\u001b[0m\u001b[0;34m,\u001b[0m \u001b[0minput_shape\u001b[0m\u001b[0;34m=\u001b[0m\u001b[0;34m(\u001b[0m\u001b[0mim_size\u001b[0m\u001b[0;34m,\u001b[0m \u001b[0mim_size\u001b[0m\u001b[0;34m,\u001b[0m \u001b[0;36m3\u001b[0m\u001b[0;34m)\u001b[0m\u001b[0;34m)\u001b[0m\u001b[0;34m)\u001b[0m\u001b[0;34m\u001b[0m\u001b[0;34m\u001b[0m\u001b[0m\n\u001b[0m\u001b[1;32m      8\u001b[0m \u001b[0mmodel\u001b[0m\u001b[0;34m.\u001b[0m\u001b[0madd\u001b[0m\u001b[0;34m(\u001b[0m\u001b[0mConv2D\u001b[0m\u001b[0;34m(\u001b[0m\u001b[0;36m64\u001b[0m\u001b[0;34m,\u001b[0m \u001b[0;34m(\u001b[0m\u001b[0;36m3\u001b[0m\u001b[0;34m,\u001b[0m \u001b[0;36m3\u001b[0m\u001b[0;34m)\u001b[0m\u001b[0;34m,\u001b[0m \u001b[0mactivation\u001b[0m\u001b[0;34m=\u001b[0m\u001b[0;34m'relu'\u001b[0m\u001b[0;34m)\u001b[0m\u001b[0;34m)\u001b[0m\u001b[0;34m\u001b[0m\u001b[0;34m\u001b[0m\u001b[0m\n\u001b[1;32m      9\u001b[0m \u001b[0mmodel\u001b[0m\u001b[0;34m.\u001b[0m\u001b[0madd\u001b[0m\u001b[0;34m(\u001b[0m\u001b[0mZeroPadding2D\u001b[0m\u001b[0;34m(\u001b[0m\u001b[0;34m(\u001b[0m\u001b[0;36m1\u001b[0m\u001b[0;34m,\u001b[0m\u001b[0;36m1\u001b[0m\u001b[0;34m)\u001b[0m\u001b[0;34m)\u001b[0m\u001b[0;34m)\u001b[0m\u001b[0;34m\u001b[0m\u001b[0;34m\u001b[0m\u001b[0m\n",
            "\u001b[0;31mNameError\u001b[0m: name 'im_size' is not defined"
          ],
          "ename": "NameError",
          "evalue": "name 'im_size' is not defined",
          "output_type": "error"
        }
      ]
    },
    {
      "cell_type": "code",
      "source": [
        "cnn_model.compile(\n",
        "    loss='sparse_categorical_crossentropy',#'categorical_crossentropy',\n",
        "    optimizer=Adam(lr=0.0001),\n",
        "    metrics=['accuracy']\n",
        ")"
      ],
      "metadata": {
        "id": "mfmM2v7tNhvE"
      },
      "execution_count": null,
      "outputs": []
    },
    {
      "cell_type": "markdown",
      "source": [
        "\n",
        "Show the model's parameters."
      ],
      "metadata": {
        "_uuid": "0aa1d7f5-387e-4568-a1fa-8b401869254a",
        "_cell_guid": "a585858c-6da2-4d17-a4c1-c2df1cfd57b7",
        "trusted": true,
        "id": "ueFaX9BBNhvF"
      }
    },
    {
      "cell_type": "markdown",
      "source": [
        "Step 6\n",
        "Train the Model\n",
        "\n",
        "Note: You can change the number of epochs"
      ],
      "metadata": {
        "_uuid": "7d67fe7b-ae0c-400e-9a5b-5b89a4bb53c9",
        "_cell_guid": "0178b55f-be17-454d-ac1a-21dd146ead5b",
        "_kg_hide-input": true,
        "trusted": true,
        "id": "RVJ80OnzNhvF"
      }
    },
    {
      "cell_type": "code",
      "source": [
        "history=cnn_model.fit(\n",
        "    np.array(x_train), np.array(y_train), batch_size=512,\n",
        "    epochs=250, verbose=2,\n",
        "    validation_data=(np.array(x_valid),np.array(y_valid)),\n",
        ")"
      ],
      "metadata": {
        "_uuid": "9a0aa71f-d073-4aad-b279-7c6ffeb5c3bf",
        "_cell_guid": "5ea83ac6-e280-4719-899d-65095f08200d",
        "jupyter": {
          "outputs_hidden": false
        },
        "execution": {
          "iopub.status.busy": "2024-04-20T21:06:07.189724Z",
          "iopub.execute_input": "2024-04-20T21:06:07.190034Z",
          "iopub.status.idle": "2024-04-20T21:16:33.732718Z",
          "shell.execute_reply.started": "2024-04-20T21:06:07.190007Z",
          "shell.execute_reply": "2024-04-20T21:16:33.732051Z"
        },
        "trusted": true,
        "id": "hSRcboocNhvG",
        "outputId": "6dbde588-4e89-45c3-cb2d-42a86c695f58"
      },
      "execution_count": null,
      "outputs": [
        {
          "name": "stdout",
          "text": "Epoch 1/250\n1/1 - 3s - loss: 3.0181 - accuracy: 0.0341 - val_loss: 3.0282 - val_accuracy: 0.0000e+00\nEpoch 2/250\n1/1 - 2s - loss: 3.0039 - accuracy: 0.0488 - val_loss: 3.0177 - val_accuracy: 0.0000e+00\nEpoch 3/250\n1/1 - 3s - loss: 2.9858 - accuracy: 0.0683 - val_loss: 3.0062 - val_accuracy: 0.0000e+00\nEpoch 4/250\n1/1 - 2s - loss: 2.9730 - accuracy: 0.0634 - val_loss: 3.0032 - val_accuracy: 0.0000e+00\nEpoch 5/250\n1/1 - 2s - loss: 3.0029 - accuracy: 0.0634 - val_loss: 3.0071 - val_accuracy: 0.0000e+00\nEpoch 6/250\n1/1 - 2s - loss: 2.9761 - accuracy: 0.0732 - val_loss: 3.0090 - val_accuracy: 0.0000e+00\nEpoch 7/250\n1/1 - 2s - loss: 2.9579 - accuracy: 0.1122 - val_loss: 3.0092 - val_accuracy: 0.0000e+00\nEpoch 8/250\n1/1 - 3s - loss: 2.9771 - accuracy: 0.1024 - val_loss: 3.0126 - val_accuracy: 0.0000e+00\nEpoch 9/250\n1/1 - 3s - loss: 2.9878 - accuracy: 0.0927 - val_loss: 3.0146 - val_accuracy: 0.0000e+00\nEpoch 10/250\n1/1 - 2s - loss: 2.9608 - accuracy: 0.0780 - val_loss: 3.0184 - val_accuracy: 0.0000e+00\nEpoch 11/250\n1/1 - 2s - loss: 2.9495 - accuracy: 0.0976 - val_loss: 3.0179 - val_accuracy: 0.0000e+00\nEpoch 12/250\n1/1 - 2s - loss: 2.9316 - accuracy: 0.0878 - val_loss: 3.0169 - val_accuracy: 0.0000e+00\nEpoch 13/250\n1/1 - 2s - loss: 2.9381 - accuracy: 0.1512 - val_loss: 3.0156 - val_accuracy: 0.0000e+00\nEpoch 14/250\n1/1 - 3s - loss: 2.9181 - accuracy: 0.1317 - val_loss: 3.0134 - val_accuracy: 0.0000e+00\nEpoch 15/250\n1/1 - 3s - loss: 2.9386 - accuracy: 0.1268 - val_loss: 3.0109 - val_accuracy: 0.0000e+00\nEpoch 16/250\n1/1 - 2s - loss: 2.9294 - accuracy: 0.1512 - val_loss: 3.0088 - val_accuracy: 0.0000e+00\nEpoch 17/250\n1/1 - 2s - loss: 2.9129 - accuracy: 0.1317 - val_loss: 3.0095 - val_accuracy: 0.0000e+00\nEpoch 18/250\n1/1 - 3s - loss: 2.9285 - accuracy: 0.1220 - val_loss: 3.0083 - val_accuracy: 0.0909\nEpoch 19/250\n1/1 - 2s - loss: 2.8872 - accuracy: 0.1220 - val_loss: 3.0058 - val_accuracy: 0.0909\nEpoch 20/250\n1/1 - 2s - loss: 2.8741 - accuracy: 0.1902 - val_loss: 3.0032 - val_accuracy: 0.0909\nEpoch 21/250\n1/1 - 3s - loss: 2.8750 - accuracy: 0.1561 - val_loss: 2.9985 - val_accuracy: 0.0909\nEpoch 22/250\n1/1 - 3s - loss: 2.8525 - accuracy: 0.1659 - val_loss: 2.9944 - val_accuracy: 0.0909\nEpoch 23/250\n1/1 - 2s - loss: 2.8511 - accuracy: 0.1317 - val_loss: 2.9856 - val_accuracy: 0.0909\nEpoch 24/250\n1/1 - 3s - loss: 2.8213 - accuracy: 0.1610 - val_loss: 2.9771 - val_accuracy: 0.0909\nEpoch 25/250\n1/1 - 2s - loss: 2.8152 - accuracy: 0.2146 - val_loss: 2.9665 - val_accuracy: 0.0909\nEpoch 26/250\n1/1 - 3s - loss: 2.7909 - accuracy: 0.1854 - val_loss: 2.9578 - val_accuracy: 0.1818\nEpoch 27/250\n1/1 - 2s - loss: 2.7569 - accuracy: 0.2341 - val_loss: 2.9492 - val_accuracy: 0.1818\nEpoch 28/250\n1/1 - 3s - loss: 2.7279 - accuracy: 0.2488 - val_loss: 2.9409 - val_accuracy: 0.1818\nEpoch 29/250\n1/1 - 3s - loss: 2.6958 - accuracy: 0.2341 - val_loss: 2.9336 - val_accuracy: 0.0909\nEpoch 30/250\n1/1 - 2s - loss: 2.6918 - accuracy: 0.2000 - val_loss: 2.9217 - val_accuracy: 0.2727\nEpoch 31/250\n1/1 - 2s - loss: 2.5821 - accuracy: 0.2878 - val_loss: 2.9053 - val_accuracy: 0.3636\nEpoch 32/250\n1/1 - 3s - loss: 2.6317 - accuracy: 0.2390 - val_loss: 2.8844 - val_accuracy: 0.4545\nEpoch 33/250\n1/1 - 2s - loss: 2.6456 - accuracy: 0.2488 - val_loss: 2.8542 - val_accuracy: 0.4545\nEpoch 34/250\n1/1 - 3s - loss: 2.5249 - accuracy: 0.3073 - val_loss: 2.8231 - val_accuracy: 0.4545\nEpoch 35/250\n1/1 - 2s - loss: 2.5405 - accuracy: 0.2780 - val_loss: 2.7858 - val_accuracy: 0.4545\nEpoch 36/250\n1/1 - 2s - loss: 2.4749 - accuracy: 0.3122 - val_loss: 2.7508 - val_accuracy: 0.5455\nEpoch 37/250\n1/1 - 2s - loss: 2.4057 - accuracy: 0.3610 - val_loss: 2.7231 - val_accuracy: 0.5455\nEpoch 38/250\n1/1 - 2s - loss: 2.3871 - accuracy: 0.3415 - val_loss: 2.6926 - val_accuracy: 0.5455\nEpoch 39/250\n1/1 - 3s - loss: 2.3203 - accuracy: 0.3415 - val_loss: 2.6555 - val_accuracy: 0.5455\nEpoch 40/250\n1/1 - 2s - loss: 2.2950 - accuracy: 0.3512 - val_loss: 2.6169 - val_accuracy: 0.5455\nEpoch 41/250\n1/1 - 2s - loss: 2.2110 - accuracy: 0.3805 - val_loss: 2.5818 - val_accuracy: 0.5455\nEpoch 42/250\n1/1 - 2s - loss: 2.1361 - accuracy: 0.4146 - val_loss: 2.5404 - val_accuracy: 0.5455\nEpoch 43/250\n1/1 - 3s - loss: 2.1060 - accuracy: 0.4293 - val_loss: 2.4914 - val_accuracy: 0.5455\nEpoch 44/250\n1/1 - 2s - loss: 2.0482 - accuracy: 0.4293 - val_loss: 2.4396 - val_accuracy: 0.5455\nEpoch 45/250\n1/1 - 3s - loss: 1.9366 - accuracy: 0.4634 - val_loss: 2.3777 - val_accuracy: 0.5455\nEpoch 46/250\n1/1 - 3s - loss: 1.9149 - accuracy: 0.4585 - val_loss: 2.3112 - val_accuracy: 0.6364\nEpoch 47/250\n1/1 - 3s - loss: 1.8714 - accuracy: 0.4683 - val_loss: 2.2340 - val_accuracy: 0.6364\nEpoch 48/250\n1/1 - 2s - loss: 1.7888 - accuracy: 0.4927 - val_loss: 2.1650 - val_accuracy: 0.6364\nEpoch 49/250\n1/1 - 2s - loss: 1.8471 - accuracy: 0.4732 - val_loss: 2.1040 - val_accuracy: 0.6364\nEpoch 50/250\n1/1 - 3s - loss: 1.6977 - accuracy: 0.5268 - val_loss: 2.0646 - val_accuracy: 0.5455\nEpoch 51/250\n1/1 - 2s - loss: 1.6620 - accuracy: 0.5610 - val_loss: 2.0296 - val_accuracy: 0.5455\nEpoch 52/250\n1/1 - 3s - loss: 1.6205 - accuracy: 0.5659 - val_loss: 1.9805 - val_accuracy: 0.5455\nEpoch 53/250\n1/1 - 2s - loss: 1.5435 - accuracy: 0.5902 - val_loss: 1.9284 - val_accuracy: 0.5455\nEpoch 54/250\n1/1 - 3s - loss: 1.4917 - accuracy: 0.5854 - val_loss: 1.8626 - val_accuracy: 0.5455\nEpoch 55/250\n1/1 - 2s - loss: 1.3780 - accuracy: 0.6098 - val_loss: 1.7763 - val_accuracy: 0.5455\nEpoch 56/250\n1/1 - 2s - loss: 1.4186 - accuracy: 0.5902 - val_loss: 1.6902 - val_accuracy: 0.5455\nEpoch 57/250\n1/1 - 3s - loss: 1.3246 - accuracy: 0.6293 - val_loss: 1.6050 - val_accuracy: 0.6364\nEpoch 58/250\n1/1 - 2s - loss: 1.3191 - accuracy: 0.6098 - val_loss: 1.5349 - val_accuracy: 0.6364\nEpoch 59/250\n1/1 - 3s - loss: 1.1801 - accuracy: 0.6732 - val_loss: 1.4705 - val_accuracy: 0.6364\nEpoch 60/250\n1/1 - 2s - loss: 1.1499 - accuracy: 0.6878 - val_loss: 1.4202 - val_accuracy: 0.6364\nEpoch 61/250\n1/1 - 2s - loss: 1.0911 - accuracy: 0.7122 - val_loss: 1.3692 - val_accuracy: 0.6364\nEpoch 62/250\n1/1 - 2s - loss: 1.1893 - accuracy: 0.6634 - val_loss: 1.3337 - val_accuracy: 0.6364\nEpoch 63/250\n1/1 - 3s - loss: 1.0338 - accuracy: 0.7024 - val_loss: 1.3048 - val_accuracy: 0.6364\nEpoch 64/250\n1/1 - 3s - loss: 1.0269 - accuracy: 0.6829 - val_loss: 1.2794 - val_accuracy: 0.6364\nEpoch 65/250\n1/1 - 3s - loss: 0.8883 - accuracy: 0.7659 - val_loss: 1.2100 - val_accuracy: 0.7273\nEpoch 66/250\n1/1 - 2s - loss: 0.9168 - accuracy: 0.7366 - val_loss: 1.1428 - val_accuracy: 0.8182\nEpoch 67/250\n1/1 - 2s - loss: 0.8227 - accuracy: 0.7707 - val_loss: 1.0939 - val_accuracy: 0.8182\nEpoch 68/250\n1/1 - 2s - loss: 0.9094 - accuracy: 0.7024 - val_loss: 1.0715 - val_accuracy: 0.8182\nEpoch 69/250\n1/1 - 3s - loss: 0.7590 - accuracy: 0.7805 - val_loss: 1.0511 - val_accuracy: 0.8182\nEpoch 70/250\n1/1 - 2s - loss: 0.6394 - accuracy: 0.8439 - val_loss: 1.0209 - val_accuracy: 0.7273\nEpoch 71/250\n1/1 - 2s - loss: 0.7210 - accuracy: 0.7756 - val_loss: 0.9126 - val_accuracy: 0.8182\nEpoch 72/250\n1/1 - 3s - loss: 0.6810 - accuracy: 0.8098 - val_loss: 0.8288 - val_accuracy: 0.8182\nEpoch 73/250\n1/1 - 2s - loss: 0.6692 - accuracy: 0.7902 - val_loss: 0.7783 - val_accuracy: 0.8182\nEpoch 74/250\n1/1 - 3s - loss: 0.5696 - accuracy: 0.8634 - val_loss: 0.7464 - val_accuracy: 0.8182\nEpoch 75/250\n1/1 - 3s - loss: 0.5771 - accuracy: 0.8439 - val_loss: 0.7454 - val_accuracy: 0.8182\nEpoch 76/250\n1/1 - 2s - loss: 0.5543 - accuracy: 0.8293 - val_loss: 0.7744 - val_accuracy: 0.8182\nEpoch 77/250\n1/1 - 3s - loss: 0.5766 - accuracy: 0.8244 - val_loss: 0.7804 - val_accuracy: 0.8182\nEpoch 78/250\n1/1 - 3s - loss: 0.4946 - accuracy: 0.8439 - val_loss: 0.7660 - val_accuracy: 0.7273\nEpoch 79/250\n1/1 - 2s - loss: 0.5906 - accuracy: 0.8488 - val_loss: 0.7536 - val_accuracy: 0.7273\nEpoch 80/250\n1/1 - 2s - loss: 0.4683 - accuracy: 0.8732 - val_loss: 0.7255 - val_accuracy: 0.7273\nEpoch 81/250\n1/1 - 2s - loss: 0.4850 - accuracy: 0.8829 - val_loss: 0.6638 - val_accuracy: 0.8182\nEpoch 82/250\n1/1 - 2s - loss: 0.4854 - accuracy: 0.8488 - val_loss: 0.5987 - val_accuracy: 0.8182\nEpoch 83/250\n1/1 - 2s - loss: 0.3694 - accuracy: 0.9171 - val_loss: 0.5545 - val_accuracy: 0.8182\nEpoch 84/250\n1/1 - 3s - loss: 0.3491 - accuracy: 0.9171 - val_loss: 0.5297 - val_accuracy: 0.8182\nEpoch 85/250\n1/1 - 3s - loss: 0.4045 - accuracy: 0.8927 - val_loss: 0.5106 - val_accuracy: 0.8182\nEpoch 86/250\n1/1 - 3s - loss: 0.3424 - accuracy: 0.9220 - val_loss: 0.5053 - val_accuracy: 0.8182\nEpoch 87/250\n1/1 - 2s - loss: 0.4142 - accuracy: 0.8683 - val_loss: 0.4993 - val_accuracy: 0.8182\nEpoch 88/250\n1/1 - 2s - loss: 0.3447 - accuracy: 0.9024 - val_loss: 0.5042 - val_accuracy: 0.8182\nEpoch 89/250\n1/1 - 3s - loss: 0.2921 - accuracy: 0.9220 - val_loss: 0.5145 - val_accuracy: 0.8182\nEpoch 90/250\n1/1 - 2s - loss: 0.2803 - accuracy: 0.9073 - val_loss: 0.5264 - val_accuracy: 0.8182\nEpoch 91/250\n1/1 - 2s - loss: 0.3198 - accuracy: 0.9024 - val_loss: 0.5364 - val_accuracy: 0.8182\nEpoch 92/250\n1/1 - 2s - loss: 0.3048 - accuracy: 0.9220 - val_loss: 0.5272 - val_accuracy: 0.8182\nEpoch 93/250\n1/1 - 2s - loss: 0.2980 - accuracy: 0.9268 - val_loss: 0.5105 - val_accuracy: 0.8182\nEpoch 94/250\n1/1 - 2s - loss: 0.2721 - accuracy: 0.9317 - val_loss: 0.4842 - val_accuracy: 0.8182\nEpoch 95/250\n1/1 - 2s - loss: 0.3000 - accuracy: 0.9122 - val_loss: 0.4637 - val_accuracy: 0.8182\nEpoch 96/250\n1/1 - 3s - loss: 0.2370 - accuracy: 0.9561 - val_loss: 0.4459 - val_accuracy: 0.8182\nEpoch 97/250\n1/1 - 3s - loss: 0.1966 - accuracy: 0.9415 - val_loss: 0.4284 - val_accuracy: 0.8182\nEpoch 98/250\n1/1 - 3s - loss: 0.2000 - accuracy: 0.9707 - val_loss: 0.4200 - val_accuracy: 0.8182\nEpoch 99/250\n1/1 - 3s - loss: 0.1535 - accuracy: 0.9707 - val_loss: 0.4221 - val_accuracy: 0.8182\nEpoch 100/250\n1/1 - 2s - loss: 0.1817 - accuracy: 0.9610 - val_loss: 0.4416 - val_accuracy: 0.8182\nEpoch 101/250\n1/1 - 2s - loss: 0.1599 - accuracy: 0.9805 - val_loss: 0.4564 - val_accuracy: 0.8182\nEpoch 102/250\n1/1 - 3s - loss: 0.1539 - accuracy: 0.9610 - val_loss: 0.4745 - val_accuracy: 0.8182\nEpoch 103/250\n1/1 - 3s - loss: 0.1934 - accuracy: 0.9415 - val_loss: 0.4863 - val_accuracy: 0.8182\nEpoch 104/250\n1/1 - 2s - loss: 0.2144 - accuracy: 0.9122 - val_loss: 0.4934 - val_accuracy: 0.8182\nEpoch 105/250\n1/1 - 2s - loss: 0.2186 - accuracy: 0.9415 - val_loss: 0.5018 - val_accuracy: 0.8182\nEpoch 106/250\n1/1 - 2s - loss: 0.1440 - accuracy: 0.9756 - val_loss: 0.4934 - val_accuracy: 0.8182\nEpoch 107/250\n1/1 - 3s - loss: 0.1739 - accuracy: 0.9512 - val_loss: 0.4852 - val_accuracy: 0.8182\nEpoch 108/250\n1/1 - 2s - loss: 0.1522 - accuracy: 0.9756 - val_loss: 0.4623 - val_accuracy: 0.8182\nEpoch 109/250\n1/1 - 2s - loss: 0.1463 - accuracy: 0.9610 - val_loss: 0.4434 - val_accuracy: 0.8182\nEpoch 110/250\n1/1 - 3s - loss: 0.0928 - accuracy: 0.9902 - val_loss: 0.4144 - val_accuracy: 0.8182\nEpoch 111/250\n1/1 - 3s - loss: 0.1224 - accuracy: 0.9707 - val_loss: 0.3840 - val_accuracy: 0.8182\nEpoch 112/250\n1/1 - 2s - loss: 0.1363 - accuracy: 0.9561 - val_loss: 0.3556 - val_accuracy: 0.9091\nEpoch 113/250\n1/1 - 3s - loss: 0.0917 - accuracy: 0.9854 - val_loss: 0.3315 - val_accuracy: 0.9091\nEpoch 114/250\n1/1 - 3s - loss: 0.0860 - accuracy: 0.9951 - val_loss: 0.3246 - val_accuracy: 0.9091\nEpoch 115/250\n1/1 - 3s - loss: 0.0838 - accuracy: 0.9951 - val_loss: 0.3288 - val_accuracy: 0.9091\nEpoch 116/250\n1/1 - 2s - loss: 0.0994 - accuracy: 0.9805 - val_loss: 0.3466 - val_accuracy: 0.8182\nEpoch 117/250\n1/1 - 3s - loss: 0.0890 - accuracy: 0.9805 - val_loss: 0.3748 - val_accuracy: 0.8182\nEpoch 118/250\n1/1 - 3s - loss: 0.1063 - accuracy: 0.9756 - val_loss: 0.4168 - val_accuracy: 0.8182\nEpoch 119/250\n1/1 - 3s - loss: 0.0914 - accuracy: 0.9756 - val_loss: 0.4409 - val_accuracy: 0.8182\nEpoch 120/250\n1/1 - 2s - loss: 0.1041 - accuracy: 0.9756 - val_loss: 0.4408 - val_accuracy: 0.8182\nEpoch 121/250\n1/1 - 2s - loss: 0.0617 - accuracy: 0.9854 - val_loss: 0.4368 - val_accuracy: 0.8182\nEpoch 122/250\n1/1 - 3s - loss: 0.0815 - accuracy: 0.9854 - val_loss: 0.4306 - val_accuracy: 0.8182\nEpoch 123/250\n1/1 - 2s - loss: 0.0808 - accuracy: 0.9854 - val_loss: 0.4142 - val_accuracy: 0.8182\nEpoch 124/250\n1/1 - 3s - loss: 0.1271 - accuracy: 0.9659 - val_loss: 0.4146 - val_accuracy: 0.8182\nEpoch 125/250\n1/1 - 3s - loss: 0.0841 - accuracy: 0.9707 - val_loss: 0.4009 - val_accuracy: 0.8182\nEpoch 126/250\n1/1 - 3s - loss: 0.0864 - accuracy: 0.9659 - val_loss: 0.3998 - val_accuracy: 0.8182\nEpoch 127/250\n1/1 - 2s - loss: 0.0790 - accuracy: 0.9805 - val_loss: 0.3962 - val_accuracy: 0.8182\nEpoch 128/250\n1/1 - 3s - loss: 0.0674 - accuracy: 0.9805 - val_loss: 0.3925 - val_accuracy: 0.9091\nEpoch 129/250\n1/1 - 2s - loss: 0.0801 - accuracy: 0.9854 - val_loss: 0.3775 - val_accuracy: 0.9091\nEpoch 130/250\n1/1 - 3s - loss: 0.0698 - accuracy: 0.9854 - val_loss: 0.3579 - val_accuracy: 0.9091\nEpoch 131/250\n1/1 - 2s - loss: 0.0649 - accuracy: 0.9902 - val_loss: 0.3394 - val_accuracy: 0.9091\nEpoch 132/250\n1/1 - 2s - loss: 0.0635 - accuracy: 0.9854 - val_loss: 0.3204 - val_accuracy: 0.9091\nEpoch 133/250\n1/1 - 2s - loss: 0.0330 - accuracy: 1.0000 - val_loss: 0.2984 - val_accuracy: 0.9091\nEpoch 134/250\n1/1 - 3s - loss: 0.0698 - accuracy: 0.9805 - val_loss: 0.2838 - val_accuracy: 0.9091\nEpoch 135/250\n1/1 - 3s - loss: 0.0641 - accuracy: 0.9854 - val_loss: 0.2789 - val_accuracy: 0.9091\nEpoch 136/250\n1/1 - 2s - loss: 0.0592 - accuracy: 0.9805 - val_loss: 0.2827 - val_accuracy: 0.9091\nEpoch 137/250\n1/1 - 2s - loss: 0.0502 - accuracy: 0.9854 - val_loss: 0.2949 - val_accuracy: 0.9091\nEpoch 138/250\n1/1 - 2s - loss: 0.0499 - accuracy: 0.9951 - val_loss: 0.3176 - val_accuracy: 0.9091\nEpoch 139/250\n1/1 - 3s - loss: 0.0322 - accuracy: 0.9951 - val_loss: 0.3418 - val_accuracy: 0.9091\nEpoch 140/250\n1/1 - 2s - loss: 0.0459 - accuracy: 0.9951 - val_loss: 0.3588 - val_accuracy: 0.9091\nEpoch 141/250\n1/1 - 2s - loss: 0.0391 - accuracy: 0.9951 - val_loss: 0.3801 - val_accuracy: 0.9091\nEpoch 142/250\n1/1 - 2s - loss: 0.0400 - accuracy: 0.9854 - val_loss: 0.3980 - val_accuracy: 0.9091\nEpoch 143/250\n1/1 - 2s - loss: 0.0598 - accuracy: 0.9854 - val_loss: 0.4159 - val_accuracy: 0.9091\nEpoch 144/250\n1/1 - 3s - loss: 0.0481 - accuracy: 0.9902 - val_loss: 0.4272 - val_accuracy: 0.9091\nEpoch 145/250\n1/1 - 2s - loss: 0.0507 - accuracy: 0.9902 - val_loss: 0.4286 - val_accuracy: 0.9091\nEpoch 146/250\n1/1 - 3s - loss: 0.0491 - accuracy: 0.9854 - val_loss: 0.4328 - val_accuracy: 0.9091\nEpoch 147/250\n1/1 - 3s - loss: 0.0323 - accuracy: 1.0000 - val_loss: 0.4431 - val_accuracy: 0.9091\nEpoch 148/250\n1/1 - 3s - loss: 0.0570 - accuracy: 0.9854 - val_loss: 0.4387 - val_accuracy: 0.9091\nEpoch 149/250\n1/1 - 3s - loss: 0.0513 - accuracy: 0.9902 - val_loss: 0.4321 - val_accuracy: 0.9091\nEpoch 150/250\n1/1 - 3s - loss: 0.0372 - accuracy: 0.9951 - val_loss: 0.4294 - val_accuracy: 0.9091\nEpoch 151/250\n1/1 - 2s - loss: 0.0435 - accuracy: 0.9902 - val_loss: 0.4390 - val_accuracy: 0.9091\nEpoch 152/250\n1/1 - 2s - loss: 0.0505 - accuracy: 0.9902 - val_loss: 0.4432 - val_accuracy: 0.9091\nEpoch 153/250\n1/1 - 2s - loss: 0.0339 - accuracy: 0.9951 - val_loss: 0.4354 - val_accuracy: 0.9091\nEpoch 154/250\n1/1 - 2s - loss: 0.0326 - accuracy: 0.9951 - val_loss: 0.4322 - val_accuracy: 0.9091\nEpoch 155/250\n1/1 - 2s - loss: 0.0570 - accuracy: 0.9951 - val_loss: 0.4195 - val_accuracy: 0.9091\nEpoch 156/250\n1/1 - 2s - loss: 0.0308 - accuracy: 1.0000 - val_loss: 0.4063 - val_accuracy: 0.9091\nEpoch 157/250\n1/1 - 2s - loss: 0.0277 - accuracy: 0.9951 - val_loss: 0.4043 - val_accuracy: 0.9091\nEpoch 158/250\n1/1 - 2s - loss: 0.0381 - accuracy: 0.9902 - val_loss: 0.4101 - val_accuracy: 0.9091\nEpoch 159/250\n1/1 - 2s - loss: 0.0431 - accuracy: 0.9805 - val_loss: 0.4148 - val_accuracy: 0.9091\nEpoch 160/250\n1/1 - 3s - loss: 0.0345 - accuracy: 1.0000 - val_loss: 0.4177 - val_accuracy: 0.9091\nEpoch 161/250\n1/1 - 2s - loss: 0.0324 - accuracy: 0.9951 - val_loss: 0.4130 - val_accuracy: 0.9091\nEpoch 162/250\n1/1 - 2s - loss: 0.0353 - accuracy: 0.9951 - val_loss: 0.4075 - val_accuracy: 0.9091\nEpoch 163/250\n1/1 - 3s - loss: 0.0304 - accuracy: 0.9902 - val_loss: 0.3995 - val_accuracy: 0.9091\nEpoch 164/250\n1/1 - 2s - loss: 0.0424 - accuracy: 0.9951 - val_loss: 0.3902 - val_accuracy: 0.9091\nEpoch 165/250\n1/1 - 2s - loss: 0.0493 - accuracy: 0.9854 - val_loss: 0.3788 - val_accuracy: 0.9091\nEpoch 166/250\n1/1 - 3s - loss: 0.0337 - accuracy: 0.9902 - val_loss: 0.3675 - val_accuracy: 0.9091\nEpoch 167/250\n1/1 - 3s - loss: 0.0139 - accuracy: 1.0000 - val_loss: 0.3602 - val_accuracy: 0.9091\nEpoch 168/250\n1/1 - 2s - loss: 0.0332 - accuracy: 0.9951 - val_loss: 0.3558 - val_accuracy: 0.9091\nEpoch 169/250\n1/1 - 2s - loss: 0.0258 - accuracy: 0.9951 - val_loss: 0.3660 - val_accuracy: 0.9091\nEpoch 170/250\n1/1 - 2s - loss: 0.0234 - accuracy: 1.0000 - val_loss: 0.3798 - val_accuracy: 0.9091\nEpoch 171/250\n1/1 - 3s - loss: 0.0254 - accuracy: 0.9902 - val_loss: 0.3848 - val_accuracy: 0.9091\nEpoch 172/250\n1/1 - 2s - loss: 0.0234 - accuracy: 1.0000 - val_loss: 0.3898 - val_accuracy: 0.9091\nEpoch 173/250\n1/1 - 3s - loss: 0.0253 - accuracy: 0.9951 - val_loss: 0.3895 - val_accuracy: 0.9091\nEpoch 174/250\n1/1 - 2s - loss: 0.0450 - accuracy: 0.9902 - val_loss: 0.3915 - val_accuracy: 0.8182\nEpoch 175/250\n1/1 - 2s - loss: 0.0235 - accuracy: 0.9951 - val_loss: 0.3933 - val_accuracy: 0.8182\nEpoch 176/250\n1/1 - 2s - loss: 0.0211 - accuracy: 0.9951 - val_loss: 0.3916 - val_accuracy: 0.8182\nEpoch 177/250\n1/1 - 2s - loss: 0.0269 - accuracy: 0.9951 - val_loss: 0.3964 - val_accuracy: 0.8182\nEpoch 178/250\n1/1 - 2s - loss: 0.0206 - accuracy: 1.0000 - val_loss: 0.4028 - val_accuracy: 0.8182\nEpoch 179/250\n1/1 - 2s - loss: 0.0359 - accuracy: 0.9902 - val_loss: 0.4136 - val_accuracy: 0.8182\nEpoch 180/250\n1/1 - 2s - loss: 0.0152 - accuracy: 1.0000 - val_loss: 0.4241 - val_accuracy: 0.8182\nEpoch 181/250\n1/1 - 2s - loss: 0.0214 - accuracy: 0.9951 - val_loss: 0.4336 - val_accuracy: 0.8182\nEpoch 182/250\n1/1 - 2s - loss: 0.0177 - accuracy: 1.0000 - val_loss: 0.4418 - val_accuracy: 0.8182\nEpoch 183/250\n1/1 - 3s - loss: 0.0415 - accuracy: 0.9854 - val_loss: 0.4554 - val_accuracy: 0.8182\nEpoch 184/250\n1/1 - 2s - loss: 0.0160 - accuracy: 1.0000 - val_loss: 0.4653 - val_accuracy: 0.8182\nEpoch 185/250\n1/1 - 2s - loss: 0.0168 - accuracy: 1.0000 - val_loss: 0.4804 - val_accuracy: 0.9091\nEpoch 186/250\n1/1 - 3s - loss: 0.0215 - accuracy: 0.9951 - val_loss: 0.4892 - val_accuracy: 0.9091\nEpoch 187/250\n1/1 - 3s - loss: 0.0180 - accuracy: 1.0000 - val_loss: 0.4975 - val_accuracy: 0.9091\nEpoch 188/250\n1/1 - 2s - loss: 0.0226 - accuracy: 0.9951 - val_loss: 0.4974 - val_accuracy: 0.9091\nEpoch 189/250\n1/1 - 2s - loss: 0.0197 - accuracy: 1.0000 - val_loss: 0.4793 - val_accuracy: 0.9091\nEpoch 190/250\n1/1 - 3s - loss: 0.0272 - accuracy: 0.9951 - val_loss: 0.4636 - val_accuracy: 0.9091\nEpoch 191/250\n1/1 - 2s - loss: 0.0115 - accuracy: 1.0000 - val_loss: 0.4492 - val_accuracy: 0.9091\nEpoch 192/250\n1/1 - 2s - loss: 0.0380 - accuracy: 0.9902 - val_loss: 0.4344 - val_accuracy: 0.9091\nEpoch 193/250\n1/1 - 2s - loss: 0.0226 - accuracy: 0.9951 - val_loss: 0.4233 - val_accuracy: 0.9091\nEpoch 194/250\n1/1 - 2s - loss: 0.0248 - accuracy: 0.9951 - val_loss: 0.4144 - val_accuracy: 0.9091\nEpoch 195/250\n1/1 - 2s - loss: 0.0153 - accuracy: 0.9951 - val_loss: 0.4104 - val_accuracy: 0.9091\nEpoch 196/250\n1/1 - 3s - loss: 0.0282 - accuracy: 0.9902 - val_loss: 0.4118 - val_accuracy: 0.9091\nEpoch 197/250\n1/1 - 2s - loss: 0.0307 - accuracy: 0.9951 - val_loss: 0.4066 - val_accuracy: 0.9091\nEpoch 198/250\n1/1 - 3s - loss: 0.0115 - accuracy: 1.0000 - val_loss: 0.4014 - val_accuracy: 0.9091\nEpoch 199/250\n1/1 - 3s - loss: 0.0299 - accuracy: 0.9951 - val_loss: 0.3997 - val_accuracy: 0.9091\nEpoch 200/250\n1/1 - 2s - loss: 0.0266 - accuracy: 0.9902 - val_loss: 0.3611 - val_accuracy: 0.9091\nEpoch 201/250\n1/1 - 2s - loss: 0.0217 - accuracy: 1.0000 - val_loss: 0.3252 - val_accuracy: 0.9091\nEpoch 202/250\n1/1 - 3s - loss: 0.0191 - accuracy: 0.9951 - val_loss: 0.3011 - val_accuracy: 0.9091\nEpoch 203/250\n1/1 - 2s - loss: 0.0166 - accuracy: 1.0000 - val_loss: 0.2798 - val_accuracy: 0.9091\nEpoch 204/250\n1/1 - 2s - loss: 0.0202 - accuracy: 0.9951 - val_loss: 0.2874 - val_accuracy: 0.9091\nEpoch 205/250\n1/1 - 2s - loss: 0.0137 - accuracy: 1.0000 - val_loss: 0.2994 - val_accuracy: 0.9091\nEpoch 206/250\n1/1 - 2s - loss: 0.0238 - accuracy: 0.9951 - val_loss: 0.3080 - val_accuracy: 0.9091\nEpoch 207/250\n1/1 - 2s - loss: 0.0266 - accuracy: 0.9902 - val_loss: 0.3203 - val_accuracy: 0.9091\nEpoch 208/250\n1/1 - 2s - loss: 0.0113 - accuracy: 1.0000 - val_loss: 0.3345 - val_accuracy: 0.9091\nEpoch 209/250\n1/1 - 2s - loss: 0.0144 - accuracy: 1.0000 - val_loss: 0.3484 - val_accuracy: 0.9091\nEpoch 210/250\n1/1 - 2s - loss: 0.0203 - accuracy: 1.0000 - val_loss: 0.3648 - val_accuracy: 0.9091\nEpoch 211/250\n1/1 - 3s - loss: 0.0145 - accuracy: 1.0000 - val_loss: 0.3870 - val_accuracy: 0.9091\nEpoch 212/250\n1/1 - 2s - loss: 0.0225 - accuracy: 0.9951 - val_loss: 0.3987 - val_accuracy: 0.9091\nEpoch 213/250\n1/1 - 3s - loss: 0.0114 - accuracy: 1.0000 - val_loss: 0.4131 - val_accuracy: 0.9091\nEpoch 214/250\n1/1 - 3s - loss: 0.0426 - accuracy: 0.9902 - val_loss: 0.4416 - val_accuracy: 0.9091\nEpoch 215/250\n1/1 - 2s - loss: 0.0129 - accuracy: 1.0000 - val_loss: 0.4684 - val_accuracy: 0.9091\nEpoch 216/250\n1/1 - 2s - loss: 0.0114 - accuracy: 1.0000 - val_loss: 0.4919 - val_accuracy: 0.9091\nEpoch 217/250\n1/1 - 3s - loss: 0.0129 - accuracy: 1.0000 - val_loss: 0.5096 - val_accuracy: 0.9091\nEpoch 218/250\n1/1 - 3s - loss: 0.0111 - accuracy: 1.0000 - val_loss: 0.5187 - val_accuracy: 0.9091\nEpoch 219/250\n1/1 - 3s - loss: 0.0162 - accuracy: 0.9951 - val_loss: 0.5195 - val_accuracy: 0.9091\nEpoch 220/250\n1/1 - 2s - loss: 0.0189 - accuracy: 0.9951 - val_loss: 0.5150 - val_accuracy: 0.9091\nEpoch 221/250\n1/1 - 2s - loss: 0.0180 - accuracy: 0.9951 - val_loss: 0.5090 - val_accuracy: 0.9091\nEpoch 222/250\n1/1 - 3s - loss: 0.0139 - accuracy: 1.0000 - val_loss: 0.4958 - val_accuracy: 0.9091\nEpoch 223/250\n1/1 - 3s - loss: 0.0209 - accuracy: 0.9951 - val_loss: 0.4829 - val_accuracy: 0.9091\nEpoch 224/250\n1/1 - 3s - loss: 0.0083 - accuracy: 1.0000 - val_loss: 0.4678 - val_accuracy: 0.9091\nEpoch 225/250\n1/1 - 2s - loss: 0.0193 - accuracy: 0.9951 - val_loss: 0.4424 - val_accuracy: 0.9091\nEpoch 226/250\n1/1 - 2s - loss: 0.0108 - accuracy: 1.0000 - val_loss: 0.4213 - val_accuracy: 0.9091\nEpoch 227/250\n1/1 - 2s - loss: 0.0150 - accuracy: 0.9951 - val_loss: 0.4064 - val_accuracy: 0.9091\nEpoch 228/250\n1/1 - 3s - loss: 0.0226 - accuracy: 0.9951 - val_loss: 0.3944 - val_accuracy: 0.9091\nEpoch 229/250\n1/1 - 2s - loss: 0.0119 - accuracy: 1.0000 - val_loss: 0.3888 - val_accuracy: 0.9091\nEpoch 230/250\n1/1 - 3s - loss: 0.0097 - accuracy: 1.0000 - val_loss: 0.3865 - val_accuracy: 0.9091\nEpoch 231/250\n1/1 - 3s - loss: 0.0179 - accuracy: 0.9951 - val_loss: 0.3897 - val_accuracy: 0.9091\nEpoch 232/250\n1/1 - 2s - loss: 0.0161 - accuracy: 1.0000 - val_loss: 0.3999 - val_accuracy: 0.9091\nEpoch 233/250\n1/1 - 2s - loss: 0.0152 - accuracy: 0.9951 - val_loss: 0.4158 - val_accuracy: 0.9091\nEpoch 234/250\n1/1 - 2s - loss: 0.0101 - accuracy: 1.0000 - val_loss: 0.4336 - val_accuracy: 0.9091\nEpoch 235/250\n1/1 - 2s - loss: 0.0113 - accuracy: 1.0000 - val_loss: 0.4484 - val_accuracy: 0.9091\nEpoch 236/250\n1/1 - 3s - loss: 0.0067 - accuracy: 1.0000 - val_loss: 0.4611 - val_accuracy: 0.9091\nEpoch 237/250\n1/1 - 2s - loss: 0.0185 - accuracy: 1.0000 - val_loss: 0.4740 - val_accuracy: 0.9091\nEpoch 238/250\n1/1 - 3s - loss: 0.0088 - accuracy: 1.0000 - val_loss: 0.4816 - val_accuracy: 0.9091\nEpoch 239/250\n1/1 - 2s - loss: 0.0117 - accuracy: 0.9951 - val_loss: 0.4729 - val_accuracy: 0.9091\nEpoch 240/250\n1/1 - 2s - loss: 0.0101 - accuracy: 1.0000 - val_loss: 0.4624 - val_accuracy: 0.9091\nEpoch 241/250\n1/1 - 3s - loss: 0.0108 - accuracy: 1.0000 - val_loss: 0.4505 - val_accuracy: 0.9091\nEpoch 242/250\n1/1 - 3s - loss: 0.0091 - accuracy: 1.0000 - val_loss: 0.4350 - val_accuracy: 0.9091\nEpoch 243/250\n1/1 - 2s - loss: 0.0140 - accuracy: 0.9951 - val_loss: 0.4249 - val_accuracy: 0.9091\nEpoch 244/250\n1/1 - 2s - loss: 0.0143 - accuracy: 0.9951 - val_loss: 0.4184 - val_accuracy: 0.9091\nEpoch 245/250\n1/1 - 3s - loss: 0.0110 - accuracy: 1.0000 - val_loss: 0.4151 - val_accuracy: 0.9091\nEpoch 246/250\n1/1 - 3s - loss: 0.0070 - accuracy: 1.0000 - val_loss: 0.4120 - val_accuracy: 0.9091\nEpoch 247/250\n1/1 - 3s - loss: 0.0051 - accuracy: 1.0000 - val_loss: 0.4086 - val_accuracy: 0.9091\nEpoch 248/250\n1/1 - 3s - loss: 0.0153 - accuracy: 1.0000 - val_loss: 0.4052 - val_accuracy: 0.9091\nEpoch 249/250\n1/1 - 3s - loss: 0.0169 - accuracy: 1.0000 - val_loss: 0.4020 - val_accuracy: 0.9091\nEpoch 250/250\n1/1 - 2s - loss: 0.0068 - accuracy: 1.0000 - val_loss: 0.4054 - val_accuracy: 0.9091\n",
          "output_type": "stream"
        }
      ]
    },
    {
      "cell_type": "markdown",
      "source": [
        "Evaluate the test data"
      ],
      "metadata": {
        "_uuid": "2233c1cc-fb8e-4b61-b398-0180aa71e6dc",
        "_cell_guid": "de697d30-38fb-42c8-8698-ac3dadae9e8f",
        "trusted": true,
        "id": "TZIKY0CzNhvH"
      }
    },
    {
      "cell_type": "code",
      "source": [
        "scor = cnn_model.evaluate( np.array(x_test),  np.array(y_test), verbose=0)\n",
        "\n",
        "print('test los {:.4f}'.format(scor[0]))\n",
        "print('test acc {:.4f}'.format(scor[1]))"
      ],
      "metadata": {
        "_uuid": "dbc31cfa-f5df-45a7-8bd3-a7eac886bb0c",
        "_cell_guid": "b85f156e-76e1-4988-8893-09a740dc914f",
        "jupyter": {
          "outputs_hidden": false
        },
        "execution": {
          "iopub.status.busy": "2024-04-20T21:17:06.089521Z",
          "iopub.execute_input": "2024-04-20T21:17:06.089821Z",
          "iopub.status.idle": "2024-04-20T21:17:06.759742Z",
          "shell.execute_reply.started": "2024-04-20T21:17:06.089793Z",
          "shell.execute_reply": "2024-04-20T21:17:06.759049Z"
        },
        "trusted": true,
        "id": "lSEe3wx7NhvI",
        "outputId": "807e59cd-4856-4cb3-e966-eee00dcb6bd0"
      },
      "execution_count": null,
      "outputs": [
        {
          "name": "stdout",
          "text": "test los 0.3920\ntest acc 0.9312\n",
          "output_type": "stream"
        }
      ]
    },
    {
      "cell_type": "markdown",
      "source": [
        "# Step 7\n",
        "plot the result"
      ],
      "metadata": {
        "_uuid": "65df95eb-7645-4853-bbb6-65a6a6309e08",
        "_cell_guid": "2e94d1e5-f5b7-40dc-9f9d-c309dc268f0f",
        "trusted": true,
        "id": "1UyHtkl-NhvI"
      }
    },
    {
      "cell_type": "code",
      "source": [
        "# list all data in history\n",
        "print(history.history.keys())\n",
        "# summarize history for accuracy\n",
        "plt.plot(history.history['accuracy'])\n",
        "plt.plot(history.history['val_accuracy'])\n",
        "plt.title('model accuracy')\n",
        "plt.ylabel('accuracy')\n",
        "plt.xlabel('epoch')\n",
        "plt.legend(['train', 'test'], loc='upper left')\n",
        "plt.show()\n",
        "# summarize history for loss\n",
        "plt.plot(history.history['loss'])\n",
        "plt.plot(history.history['val_loss'])\n",
        "plt.title('model loss')\n",
        "plt.ylabel('loss')\n",
        "plt.xlabel('epoch')\n",
        "plt.legend(['train', 'test'], loc='upper left')\n",
        "plt.show()"
      ],
      "metadata": {
        "_uuid": "01728252-934b-4e0b-81b1-d3bd4a8fddb6",
        "_cell_guid": "9b616eb7-52c0-4358-ba00-1aff8fc9ee76",
        "jupyter": {
          "outputs_hidden": false
        },
        "execution": {
          "iopub.status.busy": "2024-04-20T21:17:13.979441Z",
          "iopub.execute_input": "2024-04-20T21:17:13.97972Z",
          "iopub.status.idle": "2024-04-20T21:17:14.248971Z",
          "shell.execute_reply.started": "2024-04-20T21:17:13.979693Z",
          "shell.execute_reply": "2024-04-20T21:17:14.248297Z"
        },
        "trusted": true,
        "id": "AKsQUkjzNhvJ",
        "outputId": "6f3dbe83-1453-4777-d45f-b1e327fc3102"
      },
      "execution_count": null,
      "outputs": [
        {
          "name": "stdout",
          "text": "dict_keys(['loss', 'accuracy', 'val_loss', 'val_accuracy'])\n",
          "output_type": "stream"
        },
        {
          "output_type": "display_data",
          "data": {
            "text/plain": "<Figure size 432x288 with 1 Axes>",
            "image/png": "[encoded data removed]"
          },
          "metadata": {
            "needs_background": "light"
          }
        },
        {
          "output_type": "display_data",
          "data": {
            "text/plain": "<Figure size 432x288 with 1 Axes>",
            "image/png": "[encoded data removed]"
          },
          "metadata": {
            "needs_background": "light"
          }
        }
      ]
    },
    {
      "cell_type": "markdown",
      "source": [
        "# step 8\n",
        "Plot Confusion Matrix"
      ],
      "metadata": {
        "_uuid": "2d30340a-ae5b-4b07-b1d9-98dd9963d75a",
        "_cell_guid": "78806a88-b4fd-4d43-8188-0cdfd8b32756",
        "trusted": true,
        "id": "AOnAPFboNhvJ"
      }
    },
    {
      "cell_type": "code",
      "source": [
        "predicted =np.argmax(cnn_model.predict(x_test), axis=-1)\n",
        "\n",
        "#print(predicted)\n",
        "#print(y_test)\n",
        "ynew = cnn_model.predict_classes(x_test)\n",
        "\n",
        "\n",
        "Acc=accuracy_score(y_test, ynew)\n",
        "print(\"accuracy : \")\n",
        "print(Acc)\n",
        "#/tn, fp, fn, tp = confusion_matrix(np.array(y_test), ynew).ravel()\n",
        "cnf_matrix=confusion_matrix(np.array(y_test), ynew)\n",
        "\n",
        "y_test1 = np_utils.to_categorical(y_test, 20)\n",
        "\n",
        "\n",
        "\n",
        "def plot_confusion_matrix(cm, classes,\n",
        "                          normalize=False,\n",
        "                          title='Confusion matrix',\n",
        "                          cmap=plt.cm.Blues):\n",
        "    \"\"\"\n",
        "    This function prints and plots the confusion matrix.\n",
        "    Normalization can be applied by setting `normalize=True`.\n",
        "    \"\"\"\n",
        "    if normalize:\n",
        "        cm = cm.astype('float') / cm.sum(axis=1)[:, np.newaxis]\n",
        "        #print(\"Normalized confusion matrix\")\n",
        "    else:\n",
        "        print('Confusion matrix, without normalization')\n",
        "\n",
        "    #print(cm)\n",
        "    plt.imshow(cm, interpolation='nearest', cmap=cmap)\n",
        "    plt.title(title)\n",
        "    plt.colorbar()\n",
        "    tick_marks = np.arange(len(classes))\n",
        "    plt.xticks(tick_marks, classes, rotation=45)\n",
        "    plt.yticks(tick_marks, classes)\n",
        "\n",
        "    fmt = '.2f' if normalize else 'd'\n",
        "    thresh = cm.max() / 2.\n",
        "    for i, j in itertools.product(range(cm.shape[0]), range(cm.shape[1])):\n",
        "        plt.text(j, i, format(cm[i, j], fmt),\n",
        "                 horizontalalignment=\"center\",\n",
        "                 color=\"white\" if cm[i, j] > thresh else \"black\")\n",
        "\n",
        "    plt.tight_layout()\n",
        "    plt.ylabel('True label')\n",
        "    plt.xlabel('Predicted label')\n",
        "    plt.show()\n",
        "\n",
        "\n",
        "print('Confusion matrix, without normalization')\n",
        "print(cnf_matrix)\n",
        "\n",
        "plt.figure()\n",
        "plot_confusion_matrix(cnf_matrix[1:10,1:10], classes=[0,1,2,3,4,5,6,7,8,9],\n",
        "                      title='Confusion matrix, without normalization')\n",
        "\n",
        "plt.figure()\n",
        "plot_confusion_matrix(cnf_matrix[11:20,11:20], classes=[10,11,12,13,14,15,16,17,18,19],\n",
        "                      title='Confusion matrix, without normalization')\n",
        "\n",
        "print(\"Confusion matrix:\\n%s\" % confusion_matrix(np.array(y_test), ynew))\n",
        "print(classification_report(np.array(y_test), ynew))"
      ],
      "metadata": {
        "_uuid": "b1baa82b-35f5-4f3c-ac14-8e42ef977ca4",
        "_cell_guid": "0610f75b-2cdc-488c-97bb-ac5563ee0cf7",
        "jupyter": {
          "outputs_hidden": false
        },
        "execution": {
          "iopub.status.busy": "2024-04-20T21:17:35.267647Z",
          "iopub.execute_input": "2024-04-20T21:17:35.267947Z",
          "iopub.status.idle": "2024-04-20T21:17:37.325707Z",
          "shell.execute_reply.started": "2024-04-20T21:17:35.267921Z",
          "shell.execute_reply": "2024-04-20T21:17:37.325009Z"
        },
        "trusted": true,
        "id": "sSRfrPISNhvK",
        "outputId": "9c1ce0bb-975b-41ae-e564-2cbf9a15a71f"
      },
      "execution_count": null,
      "outputs": [
        {
          "name": "stderr",
          "text": "/opt/conda/lib/python3.7/site-packages/tensorflow/python/keras/engine/sequential.py:450: UserWarning: `model.predict_classes()` is deprecated and will be removed after 2021-01-01. Please use instead:* `np.argmax(model.predict(x), axis=-1)`,   if your model does multi-class classification   (e.g. if it uses a `softmax` last-layer activation).* `(model.predict(x) > 0.5).astype(\"int32\")`,   if your model does binary classification   (e.g. if it uses a `sigmoid` last-layer activation).\n  warnings.warn('`model.predict_classes()` is deprecated and '\n",
          "output_type": "stream"
        },
        {
          "name": "stdout",
          "text": "accuracy : \n0.93125\nConfusion matrix, without normalization\n[[8 0 0 0 0 0 0 0 0 0 0 0 0 0 0 0 0 0 0 0]\n [0 8 0 0 0 0 0 0 0 0 0 0 0 0 0 0 0 0 0 0]\n [0 0 8 0 0 0 0 0 0 0 0 0 0 0 0 0 0 0 0 0]\n [0 0 0 8 0 0 0 0 0 0 0 0 0 0 0 0 0 0 0 0]\n [0 0 0 0 6 0 0 0 0 0 0 0 0 0 0 0 0 2 0 0]\n [0 0 0 0 0 8 0 0 0 0 0 0 0 0 0 0 0 0 0 0]\n [0 0 0 0 0 0 8 0 0 0 0 0 0 0 0 0 0 0 0 0]\n [0 0 0 0 0 0 0 8 0 0 0 0 0 0 0 0 0 0 0 0]\n [0 0 0 0 0 0 0 0 8 0 0 0 0 0 0 0 0 0 0 0]\n [0 0 0 0 0 0 0 2 0 6 0 0 0 0 0 0 0 0 0 0]\n [0 0 0 0 0 0 0 0 0 0 8 0 0 0 0 0 0 0 0 0]\n [0 0 0 0 0 0 0 0 0 0 0 8 0 0 0 0 0 0 0 0]\n [0 0 0 0 0 0 0 0 0 0 0 0 8 0 0 0 0 0 0 0]\n [0 0 0 0 0 0 0 0 0 0 0 0 0 8 0 0 0 0 0 0]\n [0 0 0 0 0 0 0 0 0 0 0 0 0 0 8 0 0 0 0 0]\n [2 0 0 0 0 0 0 0 0 0 0 0 2 0 0 4 0 0 0 0]\n [0 0 0 0 0 0 0 0 0 1 0 0 0 0 0 0 7 0 0 0]\n [0 0 0 0 0 0 0 0 0 0 0 0 0 0 0 0 0 8 0 0]\n [0 0 0 0 0 0 0 2 0 0 0 0 0 0 0 0 0 0 6 0]\n [0 0 0 0 0 0 0 0 0 0 0 0 0 0 0 0 0 0 0 8]]\nConfusion matrix, without normalization\n",
          "output_type": "stream"
        },
        {
          "output_type": "display_data",
          "data": {
            "text/plain": "<Figure size 432x288 with 2 Axes>",
            "image/png": "[encoded data removed]"
          },
          "metadata": {
            "needs_background": "light"
          }
        },
        {
          "name": "stdout",
          "text": "Confusion matrix, without normalization\n",
          "output_type": "stream"
        },
        {
          "output_type": "display_data",
          "data": {
            "text/plain": "<Figure size 432x288 with 2 Axes>",
            "image/png": "[encoded data removed]"
          },
          "metadata": {
            "needs_background": "light"
          }
        },
        {
          "name": "stdout",
          "text": "Confusion matrix:\n[[8 0 0 0 0 0 0 0 0 0 0 0 0 0 0 0 0 0 0 0]\n [0 8 0 0 0 0 0 0 0 0 0 0 0 0 0 0 0 0 0 0]\n [0 0 8 0 0 0 0 0 0 0 0 0 0 0 0 0 0 0 0 0]\n [0 0 0 8 0 0 0 0 0 0 0 0 0 0 0 0 0 0 0 0]\n [0 0 0 0 6 0 0 0 0 0 0 0 0 0 0 0 0 2 0 0]\n [0 0 0 0 0 8 0 0 0 0 0 0 0 0 0 0 0 0 0 0]\n [0 0 0 0 0 0 8 0 0 0 0 0 0 0 0 0 0 0 0 0]\n [0 0 0 0 0 0 0 8 0 0 0 0 0 0 0 0 0 0 0 0]\n [0 0 0 0 0 0 0 0 8 0 0 0 0 0 0 0 0 0 0 0]\n [0 0 0 0 0 0 0 2 0 6 0 0 0 0 0 0 0 0 0 0]\n [0 0 0 0 0 0 0 0 0 0 8 0 0 0 0 0 0 0 0 0]\n [0 0 0 0 0 0 0 0 0 0 0 8 0 0 0 0 0 0 0 0]\n [0 0 0 0 0 0 0 0 0 0 0 0 8 0 0 0 0 0 0 0]\n [0 0 0 0 0 0 0 0 0 0 0 0 0 8 0 0 0 0 0 0]\n [0 0 0 0 0 0 0 0 0 0 0 0 0 0 8 0 0 0 0 0]\n [2 0 0 0 0 0 0 0 0 0 0 0 2 0 0 4 0 0 0 0]\n [0 0 0 0 0 0 0 0 0 1 0 0 0 0 0 0 7 0 0 0]\n [0 0 0 0 0 0 0 0 0 0 0 0 0 0 0 0 0 8 0 0]\n [0 0 0 0 0 0 0 2 0 0 0 0 0 0 0 0 0 0 6 0]\n [0 0 0 0 0 0 0 0 0 0 0 0 0 0 0 0 0 0 0 8]]\n              precision    recall  f1-score   support\n\n           0       0.80      1.00      0.89         8\n           1       1.00      1.00      1.00         8\n           2       1.00      1.00      1.00         8\n           3       1.00      1.00      1.00         8\n           4       1.00      0.75      0.86         8\n           5       1.00      1.00      1.00         8\n           6       1.00      1.00      1.00         8\n           7       0.67      1.00      0.80         8\n           8       1.00      1.00      1.00         8\n           9       0.86      0.75      0.80         8\n          10       1.00      1.00      1.00         8\n          11       1.00      1.00      1.00         8\n          12       0.80      1.00      0.89         8\n          13       1.00      1.00      1.00         8\n          14       1.00      1.00      1.00         8\n          15       1.00      0.50      0.67         8\n          16       1.00      0.88      0.93         8\n          17       0.80      1.00      0.89         8\n          18       1.00      0.75      0.86         8\n          19       1.00      1.00      1.00         8\n\n    accuracy                           0.93       160\n   macro avg       0.95      0.93      0.93       160\nweighted avg       0.95      0.93      0.93       160\n\n",
          "output_type": "stream"
        }
      ]
    },
    {
      "cell_type": "markdown",
      "source": [],
      "metadata": {
        "_uuid": "865b4eba-0991-4049-9db3-98132dd7f174",
        "_cell_guid": "a7d5cf42-6ff5-4514-9093-83654ef0eb36",
        "trusted": true,
        "id": "kJ2hlf2TNhvL"
      }
    }
  ]
}